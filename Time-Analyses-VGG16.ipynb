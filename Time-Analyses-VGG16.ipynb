{
  "nbformat": 4,
  "nbformat_minor": 0,
  "metadata": {
    "colab": {
      "name": "Copy of VGG16.ipynb",
      "provenance": [],
      "collapsed_sections": [],
      "include_colab_link": true
    },
    "kernelspec": {
      "name": "python3",
      "display_name": "Python 3"
    },
    "language_info": {
      "name": "python"
    }
  },
  "cells": [
    {
      "cell_type": "markdown",
      "metadata": {
        "id": "view-in-github",
        "colab_type": "text"
      },
      "source": [
        "<a href=\"https://colab.research.google.com/github/mahdi943/VGG16/blob/master/Time-Analyses-VGG16.ipynb\" target=\"_parent\"><img src=\"https://colab.research.google.com/assets/colab-badge.svg\" alt=\"Open In Colab\"/></a>"
      ]
    },
    {
      "cell_type": "code",
      "source": [
        "!cat /proc/cpuinfo"
      ],
      "metadata": {
        "id": "WUO-FqWkGsQg",
        "outputId": "8d3946d7-c38a-4a81-c535-707baf2b76af",
        "colab": {
          "base_uri": "https://localhost:8080/"
        }
      },
      "execution_count": null,
      "outputs": [
        {
          "output_type": "stream",
          "name": "stdout",
          "text": [
            "processor\t: 0\n",
            "vendor_id\t: GenuineIntel\n",
            "cpu family\t: 6\n",
            "model\t\t: 79\n",
            "model name\t: Intel(R) Xeon(R) CPU @ 2.20GHz\n",
            "stepping\t: 0\n",
            "microcode\t: 0x1\n",
            "cpu MHz\t\t: 2199.998\n",
            "cache size\t: 56320 KB\n",
            "physical id\t: 0\n",
            "siblings\t: 2\n",
            "core id\t\t: 0\n",
            "cpu cores\t: 1\n",
            "apicid\t\t: 0\n",
            "initial apicid\t: 0\n",
            "fpu\t\t: yes\n",
            "fpu_exception\t: yes\n",
            "cpuid level\t: 13\n",
            "wp\t\t: yes\n",
            "flags\t\t: fpu vme de pse tsc msr pae mce cx8 apic sep mtrr pge mca cmov pat pse36 clflush mmx fxsr sse sse2 ss ht syscall nx pdpe1gb rdtscp lm constant_tsc rep_good nopl xtopology nonstop_tsc cpuid tsc_known_freq pni pclmulqdq ssse3 fma cx16 pcid sse4_1 sse4_2 x2apic movbe popcnt aes xsave avx f16c rdrand hypervisor lahf_lm abm 3dnowprefetch invpcid_single ssbd ibrs ibpb stibp fsgsbase tsc_adjust bmi1 hle avx2 smep bmi2 erms invpcid rtm rdseed adx smap xsaveopt arat md_clear arch_capabilities\n",
            "bugs\t\t: cpu_meltdown spectre_v1 spectre_v2 spec_store_bypass l1tf mds swapgs taa\n",
            "bogomips\t: 4399.99\n",
            "clflush size\t: 64\n",
            "cache_alignment\t: 64\n",
            "address sizes\t: 46 bits physical, 48 bits virtual\n",
            "power management:\n",
            "\n",
            "processor\t: 1\n",
            "vendor_id\t: GenuineIntel\n",
            "cpu family\t: 6\n",
            "model\t\t: 79\n",
            "model name\t: Intel(R) Xeon(R) CPU @ 2.20GHz\n",
            "stepping\t: 0\n",
            "microcode\t: 0x1\n",
            "cpu MHz\t\t: 2199.998\n",
            "cache size\t: 56320 KB\n",
            "physical id\t: 0\n",
            "siblings\t: 2\n",
            "core id\t\t: 0\n",
            "cpu cores\t: 1\n",
            "apicid\t\t: 1\n",
            "initial apicid\t: 1\n",
            "fpu\t\t: yes\n",
            "fpu_exception\t: yes\n",
            "cpuid level\t: 13\n",
            "wp\t\t: yes\n",
            "flags\t\t: fpu vme de pse tsc msr pae mce cx8 apic sep mtrr pge mca cmov pat pse36 clflush mmx fxsr sse sse2 ss ht syscall nx pdpe1gb rdtscp lm constant_tsc rep_good nopl xtopology nonstop_tsc cpuid tsc_known_freq pni pclmulqdq ssse3 fma cx16 pcid sse4_1 sse4_2 x2apic movbe popcnt aes xsave avx f16c rdrand hypervisor lahf_lm abm 3dnowprefetch invpcid_single ssbd ibrs ibpb stibp fsgsbase tsc_adjust bmi1 hle avx2 smep bmi2 erms invpcid rtm rdseed adx smap xsaveopt arat md_clear arch_capabilities\n",
            "bugs\t\t: cpu_meltdown spectre_v1 spectre_v2 spec_store_bypass l1tf mds swapgs taa\n",
            "bogomips\t: 4399.99\n",
            "clflush size\t: 64\n",
            "cache_alignment\t: 64\n",
            "address sizes\t: 46 bits physical, 48 bits virtual\n",
            "power management:\n",
            "\n"
          ]
        }
      ]
    },
    {
      "cell_type": "code",
      "source": [
        "from google.colab import drive\n",
        "drive.mount('/content/drive')"
      ],
      "metadata": {
        "colab": {
          "base_uri": "https://localhost:8080/"
        },
        "id": "0fSHEnBUAF2L",
        "outputId": "70ab5a56-6000-4e5d-f541-0767a7598d3a"
      },
      "execution_count": null,
      "outputs": [
        {
          "output_type": "stream",
          "name": "stdout",
          "text": [
            "Drive already mounted at /content/drive; to attempt to forcibly remount, call drive.mount(\"/content/drive\", force_remount=True).\n"
          ]
        }
      ]
    },
    {
      "cell_type": "code",
      "source": [
        "from keras.preprocessing.image import load_img\n",
        "from keras.preprocessing.image import img_to_array\n",
        "from keras.applications.vgg16 import preprocess_input\n",
        "from keras.applications.vgg16 import decode_predictions\n",
        "from keras.applications.vgg16 import VGG16\n",
        "\n",
        "# load the model\n",
        "model = VGG16()\n"
      ],
      "metadata": {
        "id": "cmx7fNtP7f-P",
        "colab": {
          "base_uri": "https://localhost:8080/"
        },
        "outputId": "a0c3b9cb-cc35-4406-ecb2-db93dd5a0bf9"
      },
      "execution_count": null,
      "outputs": [
        {
          "output_type": "stream",
          "name": "stdout",
          "text": [
            "Downloading data from https://storage.googleapis.com/tensorflow/keras-applications/vgg16/vgg16_weights_tf_dim_ordering_tf_kernels.h5\n",
            "553467904/553467096 [==============================] - 3s 0us/step\n",
            "553476096/553467096 [==============================] - 3s 0us/step\n"
          ]
        }
      ]
    },
    {
      "cell_type": "code",
      "execution_count": null,
      "metadata": {
        "colab": {
          "base_uri": "https://localhost:8080/"
        },
        "id": "j-PpjJ_FBZWx",
        "outputId": "58409cb0-9b29-4845-cb05-27f9464f56ca"
      },
      "outputs": [
        {
          "output_type": "stream",
          "name": "stdout",
          "text": [
            "Model: \"vgg16\"\n",
            "_________________________________________________________________\n",
            " Layer (type)                Output Shape              Param #   \n",
            "=================================================================\n",
            " input_2 (InputLayer)        [(None, 224, 224, 3)]     0         \n",
            "                                                                 \n",
            " block1_conv1 (Conv2D)       (None, 224, 224, 64)      1792      \n",
            "                                                                 \n",
            " block1_conv2 (Conv2D)       (None, 224, 224, 64)      36928     \n",
            "                                                                 \n",
            " block1_pool (MaxPooling2D)  (None, 112, 112, 64)      0         \n",
            "                                                                 \n",
            " block2_conv1 (Conv2D)       (None, 112, 112, 128)     73856     \n",
            "                                                                 \n",
            " block2_conv2 (Conv2D)       (None, 112, 112, 128)     147584    \n",
            "                                                                 \n",
            " block2_pool (MaxPooling2D)  (None, 56, 56, 128)       0         \n",
            "                                                                 \n",
            " block3_conv1 (Conv2D)       (None, 56, 56, 256)       295168    \n",
            "                                                                 \n",
            " block3_conv2 (Conv2D)       (None, 56, 56, 256)       590080    \n",
            "                                                                 \n",
            " block3_conv3 (Conv2D)       (None, 56, 56, 256)       590080    \n",
            "                                                                 \n",
            " block3_pool (MaxPooling2D)  (None, 28, 28, 256)       0         \n",
            "                                                                 \n",
            " block4_conv1 (Conv2D)       (None, 28, 28, 512)       1180160   \n",
            "                                                                 \n",
            " block4_conv2 (Conv2D)       (None, 28, 28, 512)       2359808   \n",
            "                                                                 \n",
            " block4_conv3 (Conv2D)       (None, 28, 28, 512)       2359808   \n",
            "                                                                 \n",
            " block4_pool (MaxPooling2D)  (None, 14, 14, 512)       0         \n",
            "                                                                 \n",
            " block5_conv1 (Conv2D)       (None, 14, 14, 512)       2359808   \n",
            "                                                                 \n",
            " block5_conv2 (Conv2D)       (None, 14, 14, 512)       2359808   \n",
            "                                                                 \n",
            " block5_conv3 (Conv2D)       (None, 14, 14, 512)       2359808   \n",
            "                                                                 \n",
            " block5_pool (MaxPooling2D)  (None, 7, 7, 512)         0         \n",
            "                                                                 \n",
            " flatten (Flatten)           (None, 25088)             0         \n",
            "                                                                 \n",
            " fc1 (Dense)                 (None, 4096)              102764544 \n",
            "                                                                 \n",
            " fc2 (Dense)                 (None, 4096)              16781312  \n",
            "                                                                 \n",
            " predictions (Dense)         (None, 1000)              4097000   \n",
            "                                                                 \n",
            "=================================================================\n",
            "Total params: 138,357,544\n",
            "Trainable params: 138,357,544\n",
            "Non-trainable params: 0\n",
            "_________________________________________________________________\n",
            "None\n"
          ]
        }
      ],
      "source": [
        "from keras.applications.vgg16 import VGG16\n",
        "model = VGG16(weights='imagenet')\n",
        "print(model.summary())"
      ]
    },
    {
      "cell_type": "code",
      "source": [
        "folder = '/content/drive/MyDrive/Mahdi PhD/Papers/Code/image1/'\n",
        "folder2 = '/content/drive/MyDrive/Mahdi PhD/Papers/Code/image2/'"
      ],
      "metadata": {
        "id": "8MImikbeQh1T"
      },
      "execution_count": null,
      "outputs": []
    },
    {
      "cell_type": "code",
      "source": [
        "# from matplotlib import pyplot\n",
        "# import random\n",
        "# from matplotlib.image import imread\n",
        "# # define location of dataset\n",
        "\n",
        "# # plot first few images\n",
        "# i = random.randint(1,98)\n",
        "# # define subplot\n",
        "# pyplot.subplot(330 + 1 + i)\n",
        "# # define filename\n",
        "# filename = folder + 'image- (' + str(i) + ').jpg'\n",
        "# # load image pixels\n",
        "# image = imread(filename)\n",
        "# # plot raw pixel data\n",
        "# pyplot.imshow(image)\n",
        "# # show the figure\n",
        "# pyplot.show()"
      ],
      "metadata": {
        "id": "IlGN9QzQ34x0"
      },
      "execution_count": null,
      "outputs": []
    },
    {
      "cell_type": "code",
      "source": [
        "from tensorflow.keras.preprocessing import image\n",
        "from tensorflow.keras.applications.vgg16 import preprocess_input,decode_predictions\n",
        "import numpy as np\n",
        "import random\n",
        "\n",
        "i = random.randint(2,97)\n",
        "# img_path = \"/content/drive/MyDrive/Mahdi PhD/Papers/Code/Image/image-1.jpg\"\n",
        "#There is an interpolation method to match the source size with the target size\n",
        "#image loaded in PIL (Python Imaging Library)\n",
        "\n",
        "\n",
        "filename = folder + 'image- (' + str(i+1) + ').jpg'\n",
        "img = image.load_img(filename,color_mode='rgb', target_size=(100, 100, 3))\n",
        "display(img)  \n"
      ],
      "metadata": {
        "colab": {
          "base_uri": "https://localhost:8080/",
          "height": 117
        },
        "id": "F2eFgetrCK9u",
        "outputId": "4ae86ffb-bfe8-4ac9-9368-72ee625a119f"
      },
      "execution_count": null,
      "outputs": [
        {
          "output_type": "display_data",
          "data": {
            "text/plain": [
              "<PIL.Image.Image image mode=RGB size=100x100 at 0x7F840A1CFF90>"
            ],
            "image/png": "[encoded data removed]"
          },
          "metadata": {}
        }
      ]
    },
    {
      "cell_type": "code",
      "source": [
        "import time\n",
        "import os\n",
        "import statistics\n",
        "\n",
        "imageSize = []\n",
        "ave = []\n",
        "predictTimeFile = open('/content/drive/MyDrive/Mahdi PhD/Papers/Code/predictTime2.txt', 'w')\n",
        "aveFile = open('/content/drive/MyDrive/Mahdi PhD/Papers/Code/aveTime2.txt', 'w')\n",
        "\n",
        "for i in range(100):\n",
        "  predictTime = []\n",
        "  filename = folder + 'image- (' + str(i+1) + ').jpg'\n",
        "  image = load_img(filename, target_size=(224, 224,3))\n",
        "  # convert the image pixels to a numpy array\n",
        "  image = img_to_array(image)\n",
        "  # reshape data for the model\n",
        "  image = image.reshape((1, image.shape[0], image.shape[1], image.shape[2]))\n",
        "  # prepare the image for the VGG model\n",
        "  image = preprocess_input(image)\n",
        "\n",
        "  for j in range(50):\n",
        "    # predict the probability across all output classes\n",
        "    start_time = time.time()\n",
        "    yhat = model.predict(image)\n",
        "    end_time = round((time.time() - start_time + 0.0001),3)\n",
        "    predictTime.append(end_time)\n",
        "\n",
        "  predictTimeFile.write(str(predictTime))\n",
        "  ave.append(statistics.mean(predictTime))\n",
        "  imageSize.append(image.size)\n",
        "  # convert the probabilities to class labels\n",
        "  label = decode_predictions(yhat)\n",
        "  #print(label)\n",
        "  # retrieve the most likely result, e.g. highest probability\n",
        "  label = label[0][0]\n",
        "  # print the classification\n",
        "  # print(i+1, '- %s (%.2f%%)' % (label[1], label[2]*100))\n",
        "\n",
        "aveFile.write(str(ave))\n",
        "aveFile.close()\n",
        "\n",
        "predictTimeFile.close()\n"
      ],
      "metadata": {
        "colab": {
          "base_uri": "https://localhost:8080/"
        },
        "id": "HOhm1KxEW4-h",
        "outputId": "04cb5bb1-8cf8-43bd-bf11-c018add4c51a"
      },
      "execution_count": null,
      "outputs": [
        {
          "output_type": "stream",
          "name": "stdout",
          "text": [
            "Downloading data from https://storage.googleapis.com/download.tensorflow.org/data/imagenet_class_index.json\n",
            "40960/35363 [==================================] - 0s 0us/step\n",
            "49152/35363 [=========================================] - 0s 0us/step\n"
          ]
        }
      ]
    },
    {
      "cell_type": "code",
      "source": [
        "\n",
        "ave2 = []\n",
        "\n",
        "predictTimeFile2 = open('/content/drive/MyDrive/Mahdi PhD/Papers/Code/predictTimeFace2.txt', 'w')\n",
        "\n",
        "for i in range(100):\n",
        "  predictTime = []\n",
        "  filename = folder2 + 'image- (' + str(i+1) + ').jpg'\n",
        "  image = load_img(filename, target_size=(224, 224,3))\n",
        "  # convert the image pixels to a numpy array\n",
        "  image = img_to_array(image)\n",
        "  # reshape data for the model\n",
        "  image = image.reshape((1, image.shape[0], image.shape[1], image.shape[2]))\n",
        "  # prepare the image for the VGG model\n",
        "  image = preprocess_input(image)\n",
        "\n",
        "  for j in range(50):\n",
        "    # predict the probability across all output classes\n",
        "    start_time = time.time()\n",
        "    yhat = model.predict(image)\n",
        "    end_time = round((time.time() - start_time + 0.0001),3)\n",
        "    predictTime.append(end_time)\n",
        "\n",
        "  predictTimeFile2.write(str(predictTime)+ '\\n')\n",
        "  ave2.append(statistics.mean(predictTime))\n",
        "\n",
        "  # imageSize.append(image.size)\n",
        "  # convert the probabilities to class labels\n",
        "  label = decode_predictions(yhat)\n",
        "  #print(label)\n",
        "  # retrieve the most likely result, e.g. highest probability\n",
        "  label = label[0][0]\n",
        "  # print the classification\n",
        "  # print(i+1, '- %s (%.2f%%)' % (label[1], label[2]*100))\n",
        "\n",
        "aveFile2 = open('/content/drive/MyDrive/Mahdi PhD/Papers/Code/aveTimeFace2.txt', 'w')\n",
        "aveFile2.write(str(ave2))\n",
        "aveFile2.close()\n",
        "\n",
        "predictTimeFile2.close()"
      ],
      "metadata": {
        "id": "AgH-Swy2XAgd"
      },
      "execution_count": null,
      "outputs": []
    },
    {
      "cell_type": "markdown",
      "source": [
        "# Ploting \n",
        "reading from text file and show as plot"
      ],
      "metadata": {
        "id": "YsjCBEVQAvFm"
      }
    },
    {
      "cell_type": "code",
      "source": [
        "import os\n",
        "import matplotlib.pyplot as plt\n",
        "\n",
        "\n",
        "f1 = open('/content/drive/MyDrive/Mahdi PhD/Papers/Code/aveTime2.txt', 'r')\n",
        "f2 = open('/content/drive/MyDrive/Mahdi PhD/Papers/Code/aveTimeFace2.txt', 'r')\n",
        "\n",
        "\n",
        "prTime1 = f1.read()\n",
        "prTime1 = prTime1[1:len(prTime1)-1].split(',')\n",
        "listTime =[]\n",
        "for item in prTime1 :\n",
        "  temp = float(item)\n",
        "  listTime.append(temp)\n",
        "\n",
        "\n",
        "prTime2 = f2.read()\n",
        "prTime2 = prTime2[1:len(prTime2)-1].split(',')\n",
        "listTime2 =[]\n",
        "for item in prTime2 :\n",
        "  temp = float(item)\n",
        "  listTime2.append(temp)\n",
        "\n",
        "plt.plot(listTime, label='Dog/Cat')\n",
        "plt.plot(listTime2, label='Human Face')\n",
        "\n",
        "plt.xlabel(\"Image id\")\n",
        "plt.ylabel(\"Second\")\n",
        "f1.close()\n",
        "f2.close()\n",
        "\n",
        "plt.title('prediction time')\n",
        "plt.legend()\n",
        "plt.show()"
      ],
      "metadata": {
        "colab": {
          "base_uri": "https://localhost:8080/",
          "height": 295
        },
        "id": "65NMgsii8HBW",
        "outputId": "7b28d12b-d5a4-4e3f-863b-370a0ec1c1cf"
      },
      "execution_count": null,
      "outputs": [
        {
          "output_type": "display_data",
          "data": {
            "text/plain": [
              "<Figure size 432x288 with 1 Axes>"
            ],
            "image/png": "[encoded data removed]"
          },
          "metadata": {
            "needs_background": "light"
          }
        }
      ]
    },
    {
      "cell_type": "markdown",
      "source": [
        "#Dropping pip data\n"
      ],
      "metadata": {
        "id": "mZG0sVj3KsXh"
      }
    },
    {
      "cell_type": "code",
      "source": [
        "import numpy as np\n",
        "\n",
        "\n",
        "sorted = np.sort(listTime)\n",
        "myData = sorted[5:95]\n",
        "print((myData))\n",
        "print('Count: ',len(myData))\n",
        "\n",
        "\n",
        "sorted2 = np.sort(listTime2)\n",
        "myData2 = sorted2[5:95]\n",
        "print((myData2))\n",
        "print('Count: ',len(myData2))\n",
        "\n"
      ],
      "metadata": {
        "colab": {
          "base_uri": "https://localhost:8080/"
        },
        "id": "JQQXgKYFA72q",
        "outputId": "8d822cd6-f9b0-4744-8d73-47fadaa54533"
      },
      "execution_count": null,
      "outputs": [
        {
          "output_type": "stream",
          "name": "stdout",
          "text": [
            "[0.5927  0.59288 0.59312 0.59314 0.59356 0.59356 0.594   0.59406 0.59456\n",
            " 0.59492 0.59498 0.59524 0.59538 0.59552 0.59568 0.59572 0.59572 0.59582\n",
            " 0.59612 0.59626 0.59626 0.59628 0.59674 0.59696 0.59696 0.59708 0.59712\n",
            " 0.59712 0.59716 0.59746 0.59762 0.59776 0.59786 0.59788 0.59798 0.59806\n",
            " 0.59818 0.59828 0.59834 0.59836 0.5984  0.59844 0.59848 0.5985  0.59864\n",
            " 0.59882 0.59902 0.59932 0.59936 0.59944 0.59946 0.59952 0.59982 0.59988\n",
            " 0.5999  0.60038 0.60044 0.60048 0.60052 0.60054 0.60054 0.60058 0.60058\n",
            " 0.60078 0.60102 0.60126 0.6023  0.60236 0.60258 0.6027  0.60274 0.6028\n",
            " 0.60294 0.60296 0.60328 0.60338 0.6035  0.60446 0.6045  0.60588 0.60594\n",
            " 0.60638 0.60642 0.60686 0.60766 0.61008 0.61136 0.61178 0.61236 0.6134 ]\n",
            "Count:  90\n",
            "[0.59634 0.59682 0.59708 0.59716 0.59734 0.59738 0.5974  0.59758 0.5976\n",
            " 0.59802 0.59804 0.59816 0.59824 0.59824 0.59828 0.59846 0.5987  0.59888\n",
            " 0.59896 0.59904 0.59906 0.59912 0.5992  0.59936 0.59938 0.59938 0.5994\n",
            " 0.59972 0.59978 0.59996 0.6     0.6001  0.60038 0.6004  0.60044 0.6005\n",
            " 0.60058 0.60058 0.60072 0.60074 0.60092 0.60094 0.601   0.601   0.60104\n",
            " 0.60108 0.60114 0.60116 0.60118 0.60128 0.60132 0.6014  0.60144 0.60148\n",
            " 0.60214 0.60214 0.60216 0.60218 0.60224 0.60226 0.60232 0.60234 0.60238\n",
            " 0.60252 0.60274 0.60278 0.603   0.60302 0.60342 0.60346 0.60378 0.60378\n",
            " 0.60378 0.60398 0.6041  0.60424 0.60444 0.6046  0.60478 0.60488 0.60524\n",
            " 0.60524 0.60532 0.60536 0.60536 0.60538 0.60626 0.60656 0.6066  0.60684]\n",
            "Count:  90\n"
          ]
        }
      ]
    },
    {
      "cell_type": "markdown",
      "source": [
        "#Boxplot "
      ],
      "metadata": {
        "id": "puNjAMhYKw-0"
      }
    },
    {
      "cell_type": "code",
      "source": [
        "\n",
        "box_plot_data=[myData,myData2]\n",
        "box=plt.boxplot(box_plot_data,patch_artist=True,labels=['Cat/dog','Human-face'])\n",
        "plt.show()"
      ],
      "metadata": {
        "colab": {
          "base_uri": "https://localhost:8080/",
          "height": 265
        },
        "id": "oTVEPcF_C5vF",
        "outputId": "83d3c52c-06d5-45f0-8906-be52ee429194"
      },
      "execution_count": null,
      "outputs": [
        {
          "output_type": "display_data",
          "data": {
            "text/plain": [
              "<Figure size 432x288 with 1 Axes>"
            ],
            "image/png": "[encoded data removed]"
          },
          "metadata": {
            "needs_background": "light"
          }
        }
      ]
    },
    {
      "cell_type": "code",
      "source": [
        "import seaborn as sns \n",
        "import matplotlib.pyplot as plt\n",
        "import pandas as pd\n",
        "import numpy as np\n",
        "\n",
        "# seed for random numbers\n",
        "np.random.seed(31)\n",
        "# Generating Data\n",
        "df = pd.DataFrame({\n",
        "    'Cat/dog': myData,\n",
        "    'Human-face': myData2\n",
        "})\n",
        "data_df = df.melt(var_name='Category',value_name='Prediction Time')\n",
        "\n",
        "sns.set(rc={'figure.figsize':(11.7,8.27)})\n",
        "# boxplot with jittered data points in python\n",
        "sns.boxplot(x = \"Category\",\n",
        "            width=0.6,\n",
        "            y = \"Prediction Time\",\n",
        "            data = data_df)\n",
        "sns.stripplot(x = \"Category\",\n",
        "              y = \"Prediction Time\",\n",
        "              alpha=0.3,\n",
        "              color='red',\n",
        "              data = data_df)"
      ],
      "metadata": {
        "colab": {
          "base_uri": "https://localhost:8080/",
          "height": 535
        },
        "id": "OhpECT6UFeNu",
        "outputId": "28622d68-330b-42f8-96f4-92d056787366"
      },
      "execution_count": null,
      "outputs": [
        {
          "output_type": "execute_result",
          "data": {
            "text/plain": [
              "<matplotlib.axes._subplots.AxesSubplot at 0x7f6948216250>"
            ]
          },
          "metadata": {},
          "execution_count": 35
        },
        {
          "output_type": "display_data",
          "data": {
            "text/plain": [
              "<Figure size 842.4x595.44 with 1 Axes>"
            ],
            "image/png": "[encoded data removed]"
          },
          "metadata": {}
        }
      ]
    }
  ]
}